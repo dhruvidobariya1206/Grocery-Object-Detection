{
 "cells": [
  {
   "cell_type": "code",
   "execution_count": null,
   "metadata": {},
   "outputs": [],
   "source": [
    "import os\n",
    "import csv\n",
    "\n",
    "# Define the directory path\n",
    "directory = 'E:/KANA/Sem-6/AI/Project/grocery-object-detection/labels/val'\n",
    "\n",
    "# Iterate over all files in the directory\n",
    "for filename in os.listdir(directory):\n",
    "    # Define the path to the annotation file\n",
    "    print(filename)\n",
    "    annotation_file = f'E:/KANA/Sem-6/AI/Project/grocery-object-detection/labels/val/{filename}'\n",
    "\n",
    "    # Define the path to the normalized annotation file\n",
    "    normalized_file = f'dataset/val/labels/{filename}'\n",
    "\n",
    "    # Create a list to store the normalized bounding boxes\n",
    "    normalized_boxes = []\n",
    "\n",
    "    # Open the annotation file and read the bounding boxes\n",
    "    with open(annotation_file, 'r') as file:\n",
    "        reader = csv.reader(file)\n",
    "        # print(reader)\n",
    "        for row in reader:\n",
    "            print(row)\n",
    "            row = row[0].split(' ')\n",
    "            # Extract the bounding box coordinates and dimensions\n",
    "            x, y, w, h = map(float, row[1:5])\n",
    "\n",
    "            # Normalize the bounding box coordinates and dimensions\n",
    "            x_norm = x / 1834\n",
    "            y_norm = y / 1834\n",
    "            w_norm = w / 1834\n",
    "            h_norm = h / 1834\n",
    "\n",
    "            # Save the normalized bounding box coordinates and dimensions\n",
    "            normalized_boxes.append([row[0], x_norm, y_norm, w_norm, h_norm])\n",
    "\n",
    "    # Save the normalized bounding boxes to a new file\n",
    "    with open(normalized_file, 'w', newline='') as file:\n",
    "        writer = csv.writer(file)\n",
    "        writer.writerows(normalized_boxes)\n"
   ]
  },
  {
   "cell_type": "code",
   "execution_count": 8,
   "metadata": {},
   "outputs": [],
   "source": [
    "import os\n",
    "import csv\n",
    "\n",
    "# Define the directory path\n",
    "directory = 'dataset/val/labels'\n",
    "\n",
    "# Iterate over all files in the directory\n",
    "for filename in os.listdir(directory):\n",
    "    with open(f'dataset/val/labels/{filename}', 'r') as file:\n",
    "        text = file.read()\n",
    "\n",
    "# Replace all commas with spaces\n",
    "    text = text.replace(',', ' ')\n",
    "\n",
    "# Write the modified text back to the same file\n",
    "    with open(f'dataset/val/labels/{filename}', 'w') as file:\n",
    "        file.write(text)"
   ]
  }
 ],
 "metadata": {
  "kernelspec": {
   "display_name": "Python 3",
   "language": "python",
   "name": "python3"
  },
  "language_info": {
   "codemirror_mode": {
    "name": "ipython",
    "version": 3
   },
   "file_extension": ".py",
   "mimetype": "text/x-python",
   "name": "python",
   "nbconvert_exporter": "python",
   "pygments_lexer": "ipython3",
   "version": "3.10.5"
  },
  "orig_nbformat": 4
 },
 "nbformat": 4,
 "nbformat_minor": 2
}
